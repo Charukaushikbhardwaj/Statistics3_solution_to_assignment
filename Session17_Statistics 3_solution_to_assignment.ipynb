{
 "cells": [
  {
   "cell_type": "markdown",
   "metadata": {},
   "source": [
    "QUSETION 1-Blood glucose levels for obese patients have a mean of 100 with a standard deviation of\n",
    "           15. A researcher thinks that a diet high in raw cornstarch will have a positive effect on\n",
    "           blood glucose levels. A sample of 36 patients who have tried the raw cornstarch diet\n",
    "           have a mean glucose level of 108. Test the hypothesis that the raw cornstarch had an\n",
    "           effect or not.\n",
    "\n",
    "SOLUTION 1-H0: Null hypothesis: Mean μ=100\n",
    "           Ha:Alternate Hypothesis: Mean μ>100\n",
    "           Lets assume the significance level of 5%=0.05 as nothing is specified in the question.\n",
    "           So the z critical score for 0.05 significance level is 1.96\n",
    "           calculating z for the given sample, with sample mean μ =108, stddev of population σ =15, sample size n=36.\n",
    "           z=(X-μ)/σ of sample=(108-100)/(15/sqrt(36))=3.20\n",
    "           The probability or the p level for z value of 3.2 from the z table is 0.9993 . Which means that the                              probability of having the glucose level more than the mean is (1-.9993=0.0007):0.0007 which is less than the                    significance level of 0.05, so we reject the H0.\n",
    "           This implies that the cornstarch diet has a positive effect\n",
    "                                "
   ]
  },
  {
   "cell_type": "markdown",
   "metadata": {},
   "source": [
    "QUESTION 2-In one state, 52% of the voters are Republicans, and 48% are Democrats. In a second\n",
    "           state, 47% of the voters are Republicans, and 53% are Democrats. Suppose a simple\n",
    "           random sample of 100 voters are surveyed from each state.\n",
    "           What is the probability that the survey will show a greater percentage of Republican\n",
    "           voters in the second state than in the first state?\n",
    "           \n",
    "SOLUTION 2- We will use sampling distribution of the difference between two means here, assuming that the two populations are               normally distributed here.\n",
    "            Let \n",
    "            P1 = the proportion of Republican voters in the first state, \n",
    "            P2 = the proportion of Republican voters in the second state, \n",
    "            p1 = the proportion of Republican voters in the sample from the first state, \n",
    "            p2 = the proportion of Republican voters in the sample from the second state. \n",
    "\n",
    "             Finding the mean of the difference in sample proportions: E(p1 - p2) = P1 - P2 = 0.52 - 0.47 = 0.05.\n",
    "             Find the standard deviation of the difference:\n",
    "             σd = sqrt{[P1(1 - P1) / n1 ] + [ P2(1 - P2) / n2 ] }\n",
    "             σd = sqrt{[(0.52)(0.48) / 100 ] + [ (0.47)(0.53) / 100 ] }\n",
    "             σd = sqrt (0.002496 + 0.002491) = sqrt(0.004987) = 0.0706\n",
    "            To have a greater percentage of Republicans in the second state we need to show that the probability (p1-p2) is                 negative and then find the z score.\n",
    "            zp1 - p2 = (x - μp1 - p2) / σd = = (0 - 0.05)/0.0706 = -0.7082\n",
    "\n",
    "            Using z table, we find \n",
    "            P(z <=0.7082) = 0.24\n",
    "            the probability of a z-score being -0.7082 or less is 0.24\n",
    "            So the probability that the survey will show a greater percentage of Republican voters in the second state than in               the first state is 0.24 or 24% chance\n",
    "            \n",
    "            "
   ]
  },
  {
   "cell_type": "markdown",
   "metadata": {},
   "source": [
    "QUESTION 3-You take the SAT and score 1100. The mean score for the SAT is 1026 and the standard deviation is 209. How well did              you score on the test compared to the average test taker?\n",
    "\n",
    "SOLUTION 3-Given that X(observation)=1100, population mean(μ)=1026, standard dev(σ)=209 \n",
    "           To see how good you scored we look at the Z value. Z=(X-mean)/σ = (1100-1026)/209= 0.354 This shows that you                    are 0.354 standard deviations above the mean average SAT score. on looking upto the Z table we find that the                    probability value corresponding to Z=0.354 is 0.6368. This implies that you have 63.68% people having scored below              you!"
   ]
  }
 ],
 "metadata": {
  "kernelspec": {
   "display_name": "Python 3",
   "language": "python",
   "name": "python3"
  },
  "language_info": {
   "codemirror_mode": {
    "name": "ipython",
    "version": 3
   },
   "file_extension": ".py",
   "mimetype": "text/x-python",
   "name": "python",
   "nbconvert_exporter": "python",
   "pygments_lexer": "ipython3",
   "version": "3.6.5"
  }
 },
 "nbformat": 4,
 "nbformat_minor": 2
}
